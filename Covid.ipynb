{
 "cells": [
  {
   "cell_type": "code",
   "execution_count": 1,
   "metadata": {},
   "outputs": [],
   "source": [
    "import folium"
   ]
  },
  {
   "cell_type": "code",
   "execution_count": 31,
   "metadata": {},
   "outputs": [],
   "source": [
    "# using folium map function for cordinates\n",
    "lwmap = folium.Map(location=[46.71654363386108, -84.58394125000001], zoom_start=12, tiles=\"Stamen Terrain\")"
   ]
  },
  {
   "cell_type": "code",
   "execution_count": 32,
   "metadata": {},
   "outputs": [
    {
     "data": {
      "text/plain": [
       "<folium.map.Marker at 0x1eb63fd7ec8>"
      ]
     },
     "execution_count": 32,
     "metadata": {},
     "output_type": "execute_result"
    }
   ],
   "source": [
    "# Proving icon and popp for cordinate\n",
    "tooltip = 'Click me!'\n",
    "\n",
    "folium.Marker(location=[46.71654363386108, -84.58394125000001],\n",
    "              popup='<i>LW</i>', tooltip=tooltip, \n",
    "              icon=folium.Icon(color='red')).add_to(lwmap)\n"
   ]
  },
  {
   "cell_type": "code",
   "execution_count": 33,
   "metadata": {},
   "outputs": [
    {
     "data": {
      "text/html": [
       "<div style=\"width:100%;\"><div style=\"position:relative;width:100%;height:0;padding-bottom:60%;\"><iframe src=\"about:blank\" style=\"position:absolute;width:100%;height:100%;left:0;top:0;border:none !important;\" data-html=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 onload=\"this.contentDocument.open();this.contentDocument.write(atob(this.getAttribute('data-html')));this.contentDocument.close();\" allowfullscreen webkitallowfullscreen mozallowfullscreen></iframe></div></div>"
      ],
      "text/plain": [
       "<folium.folium.Map at 0x1eb6317b908>"
      ]
     },
     "execution_count": 33,
     "metadata": {},
     "output_type": "execute_result"
    }
   ],
   "source": [
    "lwmap"
   ]
  },
  {
   "cell_type": "code",
   "execution_count": 120,
   "metadata": {},
   "outputs": [],
   "source": [
    "import pandas as pd"
   ]
  },
  {
   "cell_type": "code",
   "execution_count": 121,
   "metadata": {},
   "outputs": [],
   "source": [
    "dataset = pd.read_excel(\"C://Users/HIMAN/OneDrive/Desktop/Covid-19 Test Center.xlsx\")"
   ]
  },
  {
   "cell_type": "code",
   "execution_count": 122,
   "metadata": {},
   "outputs": [
    {
     "name": "stdout",
     "output_type": "stream",
     "text": [
      "<class 'pandas.core.frame.DataFrame'>\n",
      "RangeIndex: 10 entries, 0 to 9\n",
      "Data columns (total 4 columns):\n",
      " #   Column     Non-Null Count  Dtype  \n",
      "---  ------     --------------  -----  \n",
      " 0   Name       10 non-null     object \n",
      " 1   Longitude  10 non-null     float64\n",
      " 2   Latitude   10 non-null     float64\n",
      " 3   Address    10 non-null     object \n",
      "dtypes: float64(2), object(2)\n",
      "memory usage: 448.0+ bytes\n"
     ]
    }
   ],
   "source": [
    "dataset.info()"
   ]
  },
  {
   "cell_type": "code",
   "execution_count": 123,
   "metadata": {},
   "outputs": [
    {
     "data": {
      "text/plain": [
       "Index(['Name', 'Longitude', 'Latitude', 'Address'], dtype='object')"
      ]
     },
     "execution_count": 123,
     "metadata": {},
     "output_type": "execute_result"
    }
   ],
   "source": [
    "dataset.columns"
   ]
  },
  {
   "cell_type": "code",
   "execution_count": 124,
   "metadata": {},
   "outputs": [
    {
     "data": {
      "text/html": [
       "<div>\n",
       "<style scoped>\n",
       "    .dataframe tbody tr th:only-of-type {\n",
       "        vertical-align: middle;\n",
       "    }\n",
       "\n",
       "    .dataframe tbody tr th {\n",
       "        vertical-align: top;\n",
       "    }\n",
       "\n",
       "    .dataframe thead th {\n",
       "        text-align: right;\n",
       "    }\n",
       "</style>\n",
       "<table border=\"1\" class=\"dataframe\">\n",
       "  <thead>\n",
       "    <tr style=\"text-align: right;\">\n",
       "      <th></th>\n",
       "      <th>Name</th>\n",
       "      <th>Longitude</th>\n",
       "      <th>Latitude</th>\n",
       "      <th>Address</th>\n",
       "    </tr>\n",
       "  </thead>\n",
       "  <tbody>\n",
       "    <tr>\n",
       "      <th>0</th>\n",
       "      <td>Dingwall Medical Group</td>\n",
       "      <td>49.769628</td>\n",
       "      <td>-92.840588</td>\n",
       "      <td>40 Goodall St, Dryden, ON P8N 2Z6</td>\n",
       "    </tr>\n",
       "    <tr>\n",
       "      <th>1</th>\n",
       "      <td>St Joseph's General Hospital Elliot Lake</td>\n",
       "      <td>46.384833</td>\n",
       "      <td>-82.660923</td>\n",
       "      <td>70 Spine Rd, Elliot Lake, ON P5A 1X2</td>\n",
       "    </tr>\n",
       "    <tr>\n",
       "      <th>2</th>\n",
       "      <td>Englehart and District Family Health Team</td>\n",
       "      <td>47.822657</td>\n",
       "      <td>-79.879240</td>\n",
       "      <td>63 5th St, Englehart, ON P0J 1H0</td>\n",
       "    </tr>\n",
       "  </tbody>\n",
       "</table>\n",
       "</div>"
      ],
      "text/plain": [
       "                                        Name  Longitude   Latitude  \\\n",
       "0                     Dingwall Medical Group  49.769628 -92.840588   \n",
       "1   St Joseph's General Hospital Elliot Lake  46.384833 -82.660923   \n",
       "2  Englehart and District Family Health Team  47.822657 -79.879240   \n",
       "\n",
       "                                Address  \n",
       "0     40 Goodall St, Dryden, ON P8N 2Z6  \n",
       "1  70 Spine Rd, Elliot Lake, ON P5A 1X2  \n",
       "2      63 5th St, Englehart, ON P0J 1H0  "
      ]
     },
     "execution_count": 124,
     "metadata": {},
     "output_type": "execute_result"
    }
   ],
   "source": [
    "dataset.head(3)"
   ]
  },
  {
   "cell_type": "code",
   "execution_count": 125,
   "metadata": {},
   "outputs": [],
   "source": [
    "covidmap = folium.Map(location=[49.769,-92.840], zoom_start=10)"
   ]
  },
  {
   "cell_type": "code",
   "execution_count": 126,
   "metadata": {},
   "outputs": [
    {
     "data": {
      "text/plain": [
       "Index(['Name', 'Longitude', 'Latitude', 'Address'], dtype='object')"
      ]
     },
     "execution_count": 126,
     "metadata": {},
     "output_type": "execute_result"
    }
   ],
   "source": [
    "dataset.columns"
   ]
  },
  {
   "cell_type": "code",
   "execution_count": 127,
   "metadata": {},
   "outputs": [],
   "source": [
    "place = dataset[['Latitude', 'Longitude']]"
   ]
  },
  {
   "cell_type": "code",
   "execution_count": 128,
   "metadata": {},
   "outputs": [],
   "source": [
    "place = place.values.tolist()"
   ]
  },
  {
   "cell_type": "code",
   "execution_count": 129,
   "metadata": {},
   "outputs": [
    {
     "data": {
      "text/plain": [
       "list"
      ]
     },
     "execution_count": 129,
     "metadata": {},
     "output_type": "execute_result"
    }
   ],
   "source": [
    "type(place)"
   ]
  },
  {
   "cell_type": "code",
   "execution_count": 130,
   "metadata": {},
   "outputs": [],
   "source": [
    "for i in place:\n",
    "    folium.Marker(location=i).add_to(covidmap)\n",
    "    \n",
    "    "
   ]
  },
  {
   "cell_type": "code",
   "execution_count": 132,
   "metadata": {},
   "outputs": [
    {
     "data": {
      "text/html": [
       "<div style=\"width:100%;\"><div style=\"position:relative;width:100%;height:0;padding-bottom:60%;\"><iframe src=\"about:blank\" style=\"position:absolute;width:100%;height:100%;left:0;top:0;border:none !important;\" data-html=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 onload=\"this.contentDocument.open();this.contentDocument.write(atob(this.getAttribute('data-html')));this.contentDocument.close();\" allowfullscreen webkitallowfullscreen mozallowfullscreen></iframe></div></div>"
      ],
      "text/plain": [
       "<folium.folium.Map at 0x1eb6433f688>"
      ]
     },
     "execution_count": 132,
     "metadata": {},
     "output_type": "execute_result"
    }
   ],
   "source": [
    "covidmap"
   ]
  },
  {
   "cell_type": "code",
   "execution_count": null,
   "metadata": {},
   "outputs": [],
   "source": []
  },
  {
   "cell_type": "code",
   "execution_count": 76,
   "metadata": {},
   "outputs": [
    {
     "data": {
      "text/plain": [
       "Index(['Name', 'Latitude', 'Longitude', 'Address'], dtype='object')"
      ]
     },
     "execution_count": 76,
     "metadata": {},
     "output_type": "execute_result"
    }
   ],
   "source": [
    "Dataset.columns"
   ]
  },
  {
   "cell_type": "code",
   "execution_count": 77,
   "metadata": {},
   "outputs": [],
   "source": [
    "Place = Dataset[['Latitude', 'Longitude']]"
   ]
  },
  {
   "cell_type": "code",
   "execution_count": 78,
   "metadata": {},
   "outputs": [
    {
     "data": {
      "text/plain": [
       "pandas.core.frame.DataFrame"
      ]
     },
     "execution_count": 78,
     "metadata": {},
     "output_type": "execute_result"
    }
   ],
   "source": [
    "type(Place)"
   ]
  },
  {
   "cell_type": "code",
   "execution_count": 79,
   "metadata": {},
   "outputs": [],
   "source": [
    "Place = Place.values.tolist()"
   ]
  },
  {
   "cell_type": "code",
   "execution_count": 80,
   "metadata": {},
   "outputs": [
    {
     "data": {
      "text/plain": [
       "list"
      ]
     },
     "execution_count": 80,
     "metadata": {},
     "output_type": "execute_result"
    }
   ],
   "source": [
    "type(Place)"
   ]
  },
  {
   "cell_type": "code",
   "execution_count": 83,
   "metadata": {},
   "outputs": [
    {
     "data": {
      "text/plain": [
       "[[49.769628, -92.840588],\n",
       " [46.3848332, -82.6609234999999],\n",
       " [47.8226573999999, -79.8792402],\n",
       " [43.7547592, -79.5259320999999],\n",
       " [44.3193653908236, -79.2601893740208],\n",
       " [43.7690967999999, -79.3627440999999],\n",
       " [42.4065245, -82.1918173],\n",
       " [48.1499367, -80.0329593],\n",
       " [43.7241446, -79.6008084],\n",
       " [43.7224201999999, -79.3740192]]"
      ]
     },
     "execution_count": 83,
     "metadata": {},
     "output_type": "execute_result"
    }
   ],
   "source": [
    "Place"
   ]
  },
  {
   "cell_type": "code",
   "execution_count": 89,
   "metadata": {},
   "outputs": [],
   "source": [
    "for cordinate in Place:\n",
    "    folium.Marker(location=cordinate).add_to(covidmap)"
   ]
  },
  {
   "cell_type": "code",
   "execution_count": 90,
   "metadata": {},
   "outputs": [
    {
     "data": {
      "text/html": [
       "<div style=\"width:100%;\"><div style=\"position:relative;width:100%;height:0;padding-bottom:60%;\"><iframe src=\"about:blank\" style=\"position:absolute;width:100%;height:100%;left:0;top:0;border:none !important;\" data-html=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 onload=\"this.contentDocument.open();this.contentDocument.write(atob(this.getAttribute('data-html')));this.contentDocument.close();\" allowfullscreen webkitallowfullscreen mozallowfullscreen></iframe></div></div>"
      ],
      "text/plain": [
       "<folium.folium.Map at 0x1eb64c89048>"
      ]
     },
     "execution_count": 90,
     "metadata": {},
     "output_type": "execute_result"
    }
   ],
   "source": [
    "covidmap"
   ]
  },
  {
   "cell_type": "code",
   "execution_count": null,
   "metadata": {},
   "outputs": [],
   "source": []
  }
 ],
 "metadata": {
  "kernelspec": {
   "display_name": "Python 3",
   "language": "python",
   "name": "python3"
  },
  "language_info": {
   "codemirror_mode": {
    "name": "ipython",
    "version": 3
   },
   "file_extension": ".py",
   "mimetype": "text/x-python",
   "name": "python",
   "nbconvert_exporter": "python",
   "pygments_lexer": "ipython3",
   "version": "3.7.6"
  }
 },
 "nbformat": 4,
 "nbformat_minor": 4
}
